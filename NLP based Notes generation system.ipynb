{
 "cells": [
  {
   "cell_type": "code",
   "execution_count": 1,
   "metadata": {},
   "outputs": [],
   "source": [
    "#library to convert video into audio\n",
    "import moviepy.editor as mp"
   ]
  },
  {
   "cell_type": "code",
   "execution_count": 2,
   "metadata": {},
   "outputs": [
    {
     "data": {
      "text/plain": [
       "<moviepy.video.io.VideoFileClip.VideoFileClip at 0x1c732d3f370>"
      ]
     },
     "execution_count": 2,
     "metadata": {},
     "output_type": "execute_result"
    }
   ],
   "source": [
    "#to read videofile\n",
    "clip = mp.VideoFileClip(r\"Sample.3gpp\")\n",
    "clip"
   ]
  },
  {
   "cell_type": "code",
   "execution_count": 3,
   "metadata": {},
   "outputs": [
    {
     "name": "stderr",
     "output_type": "stream",
     "text": [
      "\r",
      "chunk:   0%|                                                                        | 0/7691 [00:00<?, ?it/s, now=None]"
     ]
    },
    {
     "name": "stdout",
     "output_type": "stream",
     "text": [
      "MoviePy - Writing audio in my_result.mp3\n"
     ]
    },
    {
     "name": "stderr",
     "output_type": "stream",
     "text": [
      "                                                                                                                       "
     ]
    },
    {
     "name": "stdout",
     "output_type": "stream",
     "text": [
      "MoviePy - Done.\n"
     ]
    },
    {
     "name": "stderr",
     "output_type": "stream",
     "text": [
      "\r"
     ]
    }
   ],
   "source": [
    "clip.audio.write_audiofile(r\"my_result.mp3\") #to convert video to audio"
   ]
  },
  {
   "cell_type": "code",
   "execution_count": 4,
   "metadata": {},
   "outputs": [
    {
     "name": "stdout",
     "output_type": "stream",
     "text": [
      "Requirement already satisfied: ibm_watson in c:\\users\\shruti bibra\\python\\lib\\site-packages (5.3.0)\n",
      "Requirement already satisfied: python-dateutil>=2.5.3 in c:\\users\\shruti bibra\\python\\lib\\site-packages (from ibm_watson) (2.8.1)\n",
      "Requirement already satisfied: ibm-cloud-sdk-core==3.*,>=3.3.6 in c:\\users\\shruti bibra\\python\\lib\\site-packages (from ibm_watson) (3.12.0)\n",
      "Requirement already satisfied: websocket-client==1.1.0 in c:\\users\\shruti bibra\\python\\lib\\site-packages (from ibm_watson) (1.1.0)\n",
      "Requirement already satisfied: requests<3.0,>=2.0 in c:\\users\\shruti bibra\\python\\lib\\site-packages (from ibm_watson) (2.24.0)\n",
      "Requirement already satisfied: six>=1.5 in c:\\users\\shruti bibra\\python\\lib\\site-packages (from python-dateutil>=2.5.3->ibm_watson) (1.15.0)\n",
      "Requirement already satisfied: PyJWT<3.0.0,>=2.0.1 in c:\\users\\shruti bibra\\python\\lib\\site-packages (from ibm-cloud-sdk-core==3.*,>=3.3.6->ibm_watson) (2.3.0)\n",
      "Requirement already satisfied: certifi>=2017.4.17 in c:\\users\\shruti bibra\\python\\lib\\site-packages (from requests<3.0,>=2.0->ibm_watson) (2020.6.20)\n",
      "Requirement already satisfied: urllib3!=1.25.0,!=1.25.1,<1.26,>=1.21.1 in c:\\users\\shruti bibra\\python\\lib\\site-packages (from requests<3.0,>=2.0->ibm_watson) (1.25.11)\n",
      "Requirement already satisfied: idna<3,>=2.5 in c:\\users\\shruti bibra\\python\\lib\\site-packages (from requests<3.0,>=2.0->ibm_watson) (2.10)\n",
      "Requirement already satisfied: chardet<4,>=3.0.2 in c:\\users\\shruti bibra\\python\\lib\\site-packages (from requests<3.0,>=2.0->ibm_watson) (3.0.4)\n"
     ]
    }
   ],
   "source": [
    "#api for speech to text \n",
    "!pip install ibm_watson"
   ]
  },
  {
   "cell_type": "code",
   "execution_count": 5,
   "metadata": {},
   "outputs": [],
   "source": [
    "from ibm_watson import SpeechToTextV1\n",
    "from ibm_watson.websocket import RecognizeCallback, AudioSource \n",
    "from ibm_cloud_sdk_core.authenticators import IAMAuthenticator"
   ]
  },
  {
   "cell_type": "code",
   "execution_count": 6,
   "metadata": {},
   "outputs": [],
   "source": [
    "apikey = 'FzqR2UO54IBweAbwSlme5om1msmS3yxW1d_V7m2jWvwD'\n",
    "url = 'https://api.au-syd.speech-to-text.watson.cloud.ibm.com/instances/9fade78d-293c-4281-9bda-c37a26676004'"
   ]
  },
  {
   "cell_type": "code",
   "execution_count": 7,
   "metadata": {},
   "outputs": [],
   "source": [
    "authenticator = IAMAuthenticator(apikey)\n",
    "stt = SpeechToTextV1(authenticator=authenticator)\n",
    "stt.set_service_url(url)"
   ]
  },
  {
   "cell_type": "code",
   "execution_count": 8,
   "metadata": {},
   "outputs": [],
   "source": [
    "#conversion of speech to text \n",
    "with open('my_result.mp3', 'rb') as f:\n",
    "    res = stt.recognize(audio=f, content_type='audio/mp3', model='en-US_NarrowbandModel').get_result()"
   ]
  },
  {
   "cell_type": "code",
   "execution_count": 9,
   "metadata": {},
   "outputs": [
    {
     "data": {
      "text/plain": [
       "{'result_index': 0,\n",
       " 'results': [{'final': True,\n",
       "   'alternatives': [{'transcript': '%HESITATION %HESITATION ',\n",
       "     'confidence': 0.88}]},\n",
       "  {'final': True,\n",
       "   'alternatives': [{'transcript': '%HESITATION ', 'confidence': 0.66}]},\n",
       "  {'final': True,\n",
       "   'alternatives': [{'transcript': 'in August nineteen forty seven ',\n",
       "     'confidence': 0.97}]},\n",
       "  {'final': True,\n",
       "   'alternatives': [{'transcript': 'India gained independence after two hundred years British ',\n",
       "     'confidence': 0.98}]},\n",
       "  {'final': True,\n",
       "   'alternatives': [{'transcript': 'although it was one of the largest and bloodiest forced migration ',\n",
       "     'confidence': 0.82}]},\n",
       "  {'final': True,\n",
       "   'alternatives': [{'transcript': 'an estimated one million people lost their lives ',\n",
       "     'confidence': 0.92}]},\n",
       "  {'final': True,\n",
       "   'alternatives': [{'transcript': \"before British colonization the Indian subcontinent was a patchwork of regional kingdoms known as princely state populated by Hindus Muslims Sikhs Jane's Buddhist Christian Kerr scenes and you \",\n",
       "     'confidence': 0.75}]},\n",
       "  {'final': True,\n",
       "   'alternatives': [{'transcript': 'each princely state had its own tradition cast background and leadership ',\n",
       "     'confidence': 0.85}]},\n",
       "  {'final': True,\n",
       "   'alternatives': [{'transcript': 'starting in the fifteen hundred ',\n",
       "     'confidence': 0.95}]},\n",
       "  {'final': True,\n",
       "   'alternatives': [{'transcript': 'series of European powers colonized India with coastal trading settle ',\n",
       "     'confidence': 0.6}]},\n",
       "  {'final': True,\n",
       "   'alternatives': [{'transcript': 'by the mid eighteenth century the English East India Company emerged as the primary colonial powers ',\n",
       "     'confidence': 0.85}]},\n",
       "  {'final': True,\n",
       "   'alternatives': [{'transcript': 'the British ruled some provinces directly and ruled the princely states indirectly under indirect rule the princely states remain sovereign but made political and financial concessions to the British in the nineteenth century the British began to categorize Indians by religious identity a gross simplification of the communities in India accounted Hindus as majority and all other religious communities as distinct minority with my sons being the largest minority seeks were considered part of the Hindu community by everyone and some ',\n",
       "     'confidence': 0.83}]},\n",
       "  {'final': True,\n",
       "   'alternatives': [{'transcript': 'an election people could only vote for candidates of their own religious identification these practices exaggerated differences sewing distrust between communities that had previously co existence the twentieth century began with decades of anti colonial movements were Indian spot for independence from Britain ',\n",
       "     'confidence': 0.83}]},\n",
       "  {'final': True,\n",
       "   'alternatives': [{'transcript': 'in the aftermath of World War two under enormous financial strain from the war Britain finally came ',\n",
       "     'confidence': 0.91}]},\n",
       "  {'final': True,\n",
       "   'alternatives': [{'transcript': 'Indian political leaders had different views on what in independent India should look like mon das Gandhi and Jawaharlal Nehru represented the Hindu majority and wanted one United India ',\n",
       "     'confidence': 0.87}]},\n",
       "  {'final': True,\n",
       "   'alternatives': [{'transcript': 'Muhammad Ali Jinnah who led the most the minority thought the wrists created by colonization were too deep to repair Jenna argued for a two nation division for Muslims would have a homeland called Pappas and ',\n",
       "     'confidence': 0.72}]},\n",
       "  {'final': True,\n",
       "   'alternatives': [{'transcript': 'following riots in nineteen forty six and nineteen forty seven the British expedited service true planning Indian independence behind closed doors in June nineteen forty seven the British viceroy announced that India would gain independence by August and be partitioned into Hindu India and Muslim Pakistan but gave little explanation of how exactly this would have ',\n",
       "     'confidence': 0.83}]},\n",
       "  {'final': True,\n",
       "   'alternatives': [{'transcript': 'using outdated maps an accurate census numbers and minimal knowledge of the land in a mere five weeks down three committee drew a border dividing three provinces under direct British rule Bengal Punjab and assign the border took into account for Hindus and Muslims were majority but also factors like location and population percentages ',\n",
       "     'confidence': 0.82}]},\n",
       "  {'final': True,\n",
       "   'alternatives': [{'transcript': \"so it's a Hindu majority area bordered another Hindu majority err yeah it would be included in India but it's a Hindu majority area bordered mostly majority Arian it might become part of Pakistan princely states on the border had to choose which of the new nation to join losing their sovereignty in the process \",\n",
       "     'confidence': 0.79}]},\n",
       "  {'final': True,\n",
       "   'alternatives': [{'transcript': \"well the boundary committee worked on the new map Hindus and Muslims began moving to areas where they thought they'd be a part of the religious majority they couldn't be sure families divided the \",\n",
       "     'confidence': 0.86}]},\n",
       "  {'final': True,\n",
       "   'alternatives': [{'transcript': 'fearing sexual violence Perrin St young daughters and wives to regions the perceived to be safe ',\n",
       "     'confidence': 0.7}]},\n",
       "  {'final': True,\n",
       "   'alternatives': [{'transcript': \"the new math wasn't revealed until August seventeenth nineteen forty seven two days after independence \",\n",
       "     'confidence': 0.9}]},\n",
       "  {'final': True,\n",
       "   'alternatives': [{'transcript': 'the provinces of Punjab and Bengal became the geographically separated east and west Pakistan the rest became Hindu majority India in a period of two years millions of Hindus and Sikhs living in pops down left for a while Muslims living in India flat diligence with their families had lived for centuries ',\n",
       "     'confidence': 0.81}]},\n",
       "  {'final': True,\n",
       "   'alternatives': [{'transcript': 'the cities of Lahore Delhi Calcutta Dr and Karachi Antietam old residents and filled with refugees and the power vacuum British forces left behind radicalize malicious and local groups now my green ',\n",
       "     'confidence': 0.59}]},\n",
       "  {'final': True,\n",
       "   'alternatives': [{'transcript': 'much of the violence occurred in Punjab and women bore the brunt of the suffering rape and mutilation around a hundred thousand women were kidnapped and forced to merry the problems created by partition went far beyond the immediate deadly after ',\n",
       "     'confidence': 0.83}]},\n",
       "  {'final': True,\n",
       "   'alternatives': [{'transcript': \"many families who made temporary moves became permanently displayed and borders continue to be disputed in nineteen seventy one east Pakistan seceded and became the new country of Bangladesh meanwhile the Hindu ruler of Kashmir decided to join India a decision that was to be finalized by a public referendum of the majority Muslim population that referendum still hasn't happened as of two thousand twenty and India and Pakistan have been warring over Kashmir since nineteen forty seven more than seventeen years later the legacies of the partition remained clear in the sub continent and its new political formations and in the memories of divided families \",\n",
       "     'confidence': 0.83}]},\n",
       "  {'final': True,\n",
       "   'alternatives': [{'transcript': 'when we read over accounts of the past the perspective of young people have often been left out but it is vital that these experiences are shared an amplified educators help your students tell their own stories and ten dot com slash student talks ',\n",
       "     'confidence': 0.8}]}]}"
      ]
     },
     "execution_count": 9,
     "metadata": {},
     "output_type": "execute_result"
    }
   ],
   "source": [
    "res"
   ]
  },
  {
   "cell_type": "code",
   "execution_count": 10,
   "metadata": {},
   "outputs": [
    {
     "name": "stdout",
     "output_type": "stream",
     "text": [
      "%HESITATION %HESITATION %HESITATION in August nineteen forty seven India gained independence after two hundred years British although it was one of the largest and bloodiest forced migration an estimated one million people lost their lives before British colonization the Indian subcontinent was a patchwork of regional kingdoms known as princely state populated by Hindus Muslims Sikhs Jane's Buddhist Christian Kerr scenes and you each princely state had its own tradition cast background and leadership starting in the fifteen hundred series of European powers colonized India with coastal trading settle by the mid eighteenth century the English East India Company emerged as the primary colonial powers the British ruled some provinces directly and ruled the princely states indirectly under indirect rule the princely states remain sovereign but made political and financial concessions to the British in the nineteenth century the British began to categorize Indians by religious identity a gross simplification of the communities in India accounted Hindus as majority and all other religious communities as distinct minority with my sons being the largest minority seeks were considered part of the Hindu community by everyone and some an election people could only vote for candidates of their own religious identification these practices exaggerated differences sewing distrust between communities that had previously co existence the twentieth century began with decades of anti colonial movements were Indian spot for independence from Britain in the aftermath of World War two under enormous financial strain from the war Britain finally came Indian political leaders had different views on what in independent India should look like mon das Gandhi and Jawaharlal Nehru represented the Hindu majority and wanted one United India Muhammad Ali Jinnah who led the most the minority thought the wrists created by colonization were too deep to repair Jenna argued for a two nation division for Muslims would have a homeland called Pappas and following riots in nineteen forty six and nineteen forty seven the British expedited service true planning Indian independence behind closed doors in June nineteen forty seven the British viceroy announced that India would gain independence by August and be partitioned into Hindu India and Muslim Pakistan but gave little explanation of how exactly this would have using outdated maps an accurate census numbers and minimal knowledge of the land in a mere five weeks down three committee drew a border dividing three provinces under direct British rule Bengal Punjab and assign the border took into account for Hindus and Muslims were majority but also factors like location and population percentages so it's a Hindu majority area bordered another Hindu majority err yeah it would be included in India but it's a Hindu majority area bordered mostly majority Arian it might become part of Pakistan princely states on the border had to choose which of the new nation to join losing their sovereignty in the process well the boundary committee worked on the new map Hindus and Muslims began moving to areas where they thought they'd be a part of the religious majority they couldn't be sure families divided the fearing sexual violence Perrin St young daughters and wives to regions the perceived to be safe the new math wasn't revealed until August seventeenth nineteen forty seven two days after independence the provinces of Punjab and Bengal became the geographically separated east and west Pakistan the rest became Hindu majority India in a period of two years millions of Hindus and Sikhs living in pops down left for a while Muslims living in India flat diligence with their families had lived for centuries the cities of Lahore Delhi Calcutta Dr and Karachi Antietam old residents and filled with refugees and the power vacuum British forces left behind radicalize malicious and local groups now my green much of the violence occurred in Punjab and women bore the brunt of the suffering rape and mutilation around a hundred thousand women were kidnapped and forced to merry the problems created by partition went far beyond the immediate deadly after many families who made temporary moves became permanently displayed and borders continue to be disputed in nineteen seventy one east Pakistan seceded and became the new country of Bangladesh meanwhile the Hindu ruler of Kashmir decided to join India a decision that was to be finalized by a public referendum of the majority Muslim population that referendum still hasn't happened as of two thousand twenty and India and Pakistan have been warring over Kashmir since nineteen forty seven more than seventeen years later the legacies of the partition remained clear in the sub continent and its new political formations and in the memories of divided families when we read over accounts of the past the perspective of young people have often been left out but it is vital that these experiences are shared an amplified educators help your students tell their own stories and ten dot com slash student talks \n"
     ]
    }
   ],
   "source": [
    "#turning the dictionary to paragraph \n",
    "text = \"\"\n",
    "\n",
    "while bool(res.get('results')):\n",
    "    text = res.get('results').pop().get('alternatives').pop().get('transcript')+ text[:]\n",
    "\n",
    "print(text)"
   ]
  },
  {
   "cell_type": "code",
   "execution_count": 11,
   "metadata": {},
   "outputs": [],
   "source": [
    "#saving it in the form of text file \n",
    "with open('output.txt', 'w') as out:\n",
    "    out.writelines(text)"
   ]
  },
  {
   "cell_type": "code",
   "execution_count": 12,
   "metadata": {},
   "outputs": [
    {
     "name": "stdout",
     "output_type": "stream",
     "text": [
      "                                                   0\n",
      "0  %HESITATION %HESITATION %HESITATION in August ...\n"
     ]
    }
   ],
   "source": [
    "import pandas as pd\n",
    "\n",
    "data = pd.read_csv('output.txt', header = None)\n",
    "print(data)"
   ]
  },
  {
   "cell_type": "code",
   "execution_count": 19,
   "metadata": {},
   "outputs": [
    {
     "name": "stdout",
     "output_type": "stream",
     "text": [
      "Requirement already satisfied: nltk in c:\\users\\shruti bibra\\python\\lib\\site-packages (3.5)\n",
      "Requirement already satisfied: click in c:\\users\\shruti bibra\\python\\lib\\site-packages (from nltk) (7.1.2)\n",
      "Requirement already satisfied: regex in c:\\users\\shruti bibra\\python\\lib\\site-packages (from nltk) (2020.10.15)\n",
      "Requirement already satisfied: joblib in c:\\users\\shruti bibra\\python\\lib\\site-packages (from nltk) (0.17.0)\n",
      "Requirement already satisfied: tqdm in c:\\users\\shruti bibra\\python\\lib\\site-packages (from nltk) (4.50.2)\n"
     ]
    }
   ],
   "source": [
    "!pip install nltk"
   ]
  },
  {
   "cell_type": "code",
   "execution_count": 20,
   "metadata": {
    "scrolled": true
   },
   "outputs": [],
   "source": [
    "import nltk"
   ]
  },
  {
   "cell_type": "code",
   "execution_count": null,
   "metadata": {},
   "outputs": [
    {
     "name": "stderr",
     "output_type": "stream",
     "text": [
      "[nltk_data] Downloading collection 'all'\n",
      "[nltk_data]    | \n",
      "[nltk_data]    | Downloading package abc to C:\\Users\\Shruti\n",
      "[nltk_data]    |     Bibra\\AppData\\Roaming\\nltk_data...\n",
      "[nltk_data]    |   Unzipping corpora\\abc.zip.\n",
      "[nltk_data]    | Downloading package alpino to C:\\Users\\Shruti\n",
      "[nltk_data]    |     Bibra\\AppData\\Roaming\\nltk_data...\n",
      "[nltk_data]    |   Unzipping corpora\\alpino.zip.\n",
      "[nltk_data]    | Downloading package biocreative_ppi to\n",
      "[nltk_data]    |     C:\\Users\\Shruti\n",
      "[nltk_data]    |     Bibra\\AppData\\Roaming\\nltk_data...\n",
      "[nltk_data]    |   Unzipping corpora\\biocreative_ppi.zip.\n",
      "[nltk_data]    | Downloading package brown to C:\\Users\\Shruti\n",
      "[nltk_data]    |     Bibra\\AppData\\Roaming\\nltk_data...\n",
      "[nltk_data]    |   Unzipping corpora\\brown.zip.\n",
      "[nltk_data]    | Downloading package brown_tei to C:\\Users\\Shruti\n",
      "[nltk_data]    |     Bibra\\AppData\\Roaming\\nltk_data...\n",
      "[nltk_data]    |   Unzipping corpora\\brown_tei.zip.\n",
      "[nltk_data]    | Downloading package cess_cat to C:\\Users\\Shruti\n",
      "[nltk_data]    |     Bibra\\AppData\\Roaming\\nltk_data...\n",
      "[nltk_data]    |   Unzipping corpora\\cess_cat.zip.\n",
      "[nltk_data]    | Downloading package cess_esp to C:\\Users\\Shruti\n",
      "[nltk_data]    |     Bibra\\AppData\\Roaming\\nltk_data...\n",
      "[nltk_data]    |   Unzipping corpora\\cess_esp.zip.\n",
      "[nltk_data]    | Downloading package chat80 to C:\\Users\\Shruti\n",
      "[nltk_data]    |     Bibra\\AppData\\Roaming\\nltk_data...\n",
      "[nltk_data]    |   Unzipping corpora\\chat80.zip.\n",
      "[nltk_data]    | Downloading package city_database to C:\\Users\\Shruti\n",
      "[nltk_data]    |     Bibra\\AppData\\Roaming\\nltk_data...\n",
      "[nltk_data]    |   Unzipping corpora\\city_database.zip.\n",
      "[nltk_data]    | Downloading package cmudict to C:\\Users\\Shruti\n",
      "[nltk_data]    |     Bibra\\AppData\\Roaming\\nltk_data...\n",
      "[nltk_data]    |   Unzipping corpora\\cmudict.zip.\n",
      "[nltk_data]    | Downloading package comparative_sentences to\n",
      "[nltk_data]    |     C:\\Users\\Shruti\n",
      "[nltk_data]    |     Bibra\\AppData\\Roaming\\nltk_data...\n",
      "[nltk_data]    |   Unzipping corpora\\comparative_sentences.zip.\n",
      "[nltk_data]    | Downloading package comtrans to C:\\Users\\Shruti\n",
      "[nltk_data]    |     Bibra\\AppData\\Roaming\\nltk_data...\n",
      "[nltk_data]    | Downloading package conll2000 to C:\\Users\\Shruti\n",
      "[nltk_data]    |     Bibra\\AppData\\Roaming\\nltk_data...\n",
      "[nltk_data]    |   Unzipping corpora\\conll2000.zip.\n",
      "[nltk_data]    | Downloading package conll2002 to C:\\Users\\Shruti\n",
      "[nltk_data]    |     Bibra\\AppData\\Roaming\\nltk_data...\n",
      "[nltk_data]    |   Unzipping corpora\\conll2002.zip.\n",
      "[nltk_data]    | Downloading package conll2007 to C:\\Users\\Shruti\n",
      "[nltk_data]    |     Bibra\\AppData\\Roaming\\nltk_data...\n",
      "[nltk_data]    | Downloading package crubadan to C:\\Users\\Shruti\n",
      "[nltk_data]    |     Bibra\\AppData\\Roaming\\nltk_data...\n",
      "[nltk_data]    |   Unzipping corpora\\crubadan.zip.\n",
      "[nltk_data]    | Downloading package dependency_treebank to\n",
      "[nltk_data]    |     C:\\Users\\Shruti\n",
      "[nltk_data]    |     Bibra\\AppData\\Roaming\\nltk_data...\n",
      "[nltk_data]    |   Unzipping corpora\\dependency_treebank.zip.\n",
      "[nltk_data]    | Downloading package dolch to C:\\Users\\Shruti\n",
      "[nltk_data]    |     Bibra\\AppData\\Roaming\\nltk_data...\n",
      "[nltk_data]    |   Unzipping corpora\\dolch.zip.\n",
      "[nltk_data]    | Downloading package europarl_raw to C:\\Users\\Shruti\n",
      "[nltk_data]    |     Bibra\\AppData\\Roaming\\nltk_data...\n",
      "[nltk_data]    |   Unzipping corpora\\europarl_raw.zip.\n",
      "[nltk_data]    | Downloading package floresta to C:\\Users\\Shruti\n",
      "[nltk_data]    |     Bibra\\AppData\\Roaming\\nltk_data...\n",
      "[nltk_data]    |   Unzipping corpora\\floresta.zip.\n",
      "[nltk_data]    | Downloading package framenet_v15 to C:\\Users\\Shruti\n",
      "[nltk_data]    |     Bibra\\AppData\\Roaming\\nltk_data...\n",
      "[nltk_data]    |   Unzipping corpora\\framenet_v15.zip.\n",
      "[nltk_data]    | Downloading package framenet_v17 to C:\\Users\\Shruti\n",
      "[nltk_data]    |     Bibra\\AppData\\Roaming\\nltk_data...\n",
      "[nltk_data]    |   Unzipping corpora\\framenet_v17.zip.\n",
      "[nltk_data]    | Downloading package gazetteers to C:\\Users\\Shruti\n",
      "[nltk_data]    |     Bibra\\AppData\\Roaming\\nltk_data...\n",
      "[nltk_data]    |   Unzipping corpora\\gazetteers.zip.\n",
      "[nltk_data]    | Downloading package genesis to C:\\Users\\Shruti\n",
      "[nltk_data]    |     Bibra\\AppData\\Roaming\\nltk_data...\n",
      "[nltk_data]    |   Unzipping corpora\\genesis.zip.\n",
      "[nltk_data]    | Downloading package gutenberg to C:\\Users\\Shruti\n",
      "[nltk_data]    |     Bibra\\AppData\\Roaming\\nltk_data...\n",
      "[nltk_data]    |   Unzipping corpora\\gutenberg.zip.\n",
      "[nltk_data]    | Downloading package ieer to C:\\Users\\Shruti\n",
      "[nltk_data]    |     Bibra\\AppData\\Roaming\\nltk_data...\n",
      "[nltk_data]    |   Unzipping corpora\\ieer.zip.\n",
      "[nltk_data]    | Downloading package inaugural to C:\\Users\\Shruti\n",
      "[nltk_data]    |     Bibra\\AppData\\Roaming\\nltk_data...\n",
      "[nltk_data]    |   Unzipping corpora\\inaugural.zip.\n",
      "[nltk_data]    | Downloading package indian to C:\\Users\\Shruti\n",
      "[nltk_data]    |     Bibra\\AppData\\Roaming\\nltk_data...\n",
      "[nltk_data]    |   Unzipping corpora\\indian.zip.\n",
      "[nltk_data]    | Downloading package jeita to C:\\Users\\Shruti\n",
      "[nltk_data]    |     Bibra\\AppData\\Roaming\\nltk_data...\n",
      "[nltk_data]    | Downloading package kimmo to C:\\Users\\Shruti\n",
      "[nltk_data]    |     Bibra\\AppData\\Roaming\\nltk_data...\n",
      "[nltk_data]    |   Unzipping corpora\\kimmo.zip.\n",
      "[nltk_data]    | Downloading package knbc to C:\\Users\\Shruti\n",
      "[nltk_data]    |     Bibra\\AppData\\Roaming\\nltk_data...\n",
      "[nltk_data]    | Downloading package lin_thesaurus to C:\\Users\\Shruti\n",
      "[nltk_data]    |     Bibra\\AppData\\Roaming\\nltk_data...\n",
      "[nltk_data]    |   Unzipping corpora\\lin_thesaurus.zip.\n",
      "[nltk_data]    | Downloading package mac_morpho to C:\\Users\\Shruti\n",
      "[nltk_data]    |     Bibra\\AppData\\Roaming\\nltk_data...\n",
      "[nltk_data]    |   Unzipping corpora\\mac_morpho.zip.\n",
      "[nltk_data]    | Downloading package machado to C:\\Users\\Shruti\n",
      "[nltk_data]    |     Bibra\\AppData\\Roaming\\nltk_data...\n",
      "[nltk_data]    | Downloading package masc_tagged to C:\\Users\\Shruti\n",
      "[nltk_data]    |     Bibra\\AppData\\Roaming\\nltk_data...\n",
      "[nltk_data]    | Downloading package moses_sample to C:\\Users\\Shruti\n",
      "[nltk_data]    |     Bibra\\AppData\\Roaming\\nltk_data...\n",
      "[nltk_data]    |   Unzipping models\\moses_sample.zip.\n",
      "[nltk_data]    | Downloading package movie_reviews to C:\\Users\\Shruti\n",
      "[nltk_data]    |     Bibra\\AppData\\Roaming\\nltk_data...\n",
      "[nltk_data]    |   Unzipping corpora\\movie_reviews.zip.\n",
      "[nltk_data]    | Downloading package names to C:\\Users\\Shruti\n",
      "[nltk_data]    |     Bibra\\AppData\\Roaming\\nltk_data...\n",
      "[nltk_data]    |   Unzipping corpora\\names.zip.\n",
      "[nltk_data]    | Downloading package nombank.1.0 to C:\\Users\\Shruti\n",
      "[nltk_data]    |     Bibra\\AppData\\Roaming\\nltk_data...\n",
      "[nltk_data]    | Downloading package nps_chat to C:\\Users\\Shruti\n",
      "[nltk_data]    |     Bibra\\AppData\\Roaming\\nltk_data...\n",
      "[nltk_data]    |   Unzipping corpora\\nps_chat.zip.\n",
      "[nltk_data]    | Downloading package omw to C:\\Users\\Shruti\n",
      "[nltk_data]    |     Bibra\\AppData\\Roaming\\nltk_data...\n",
      "[nltk_data]    |   Unzipping corpora\\omw.zip.\n",
      "[nltk_data]    | Downloading package opinion_lexicon to\n",
      "[nltk_data]    |     C:\\Users\\Shruti\n",
      "[nltk_data]    |     Bibra\\AppData\\Roaming\\nltk_data...\n",
      "[nltk_data]    |   Unzipping corpora\\opinion_lexicon.zip.\n",
      "[nltk_data]    | Downloading package paradigms to C:\\Users\\Shruti\n",
      "[nltk_data]    |     Bibra\\AppData\\Roaming\\nltk_data...\n",
      "[nltk_data]    |   Unzipping corpora\\paradigms.zip.\n",
      "[nltk_data]    | Downloading package pil to C:\\Users\\Shruti\n",
      "[nltk_data]    |     Bibra\\AppData\\Roaming\\nltk_data...\n",
      "[nltk_data]    |   Unzipping corpora\\pil.zip.\n",
      "[nltk_data]    | Downloading package pl196x to C:\\Users\\Shruti\n",
      "[nltk_data]    |     Bibra\\AppData\\Roaming\\nltk_data...\n",
      "[nltk_data]    |   Unzipping corpora\\pl196x.zip.\n",
      "[nltk_data]    | Downloading package ppattach to C:\\Users\\Shruti\n",
      "[nltk_data]    |     Bibra\\AppData\\Roaming\\nltk_data...\n",
      "[nltk_data]    |   Unzipping corpora\\ppattach.zip.\n",
      "[nltk_data]    | Downloading package problem_reports to\n",
      "[nltk_data]    |     C:\\Users\\Shruti\n",
      "[nltk_data]    |     Bibra\\AppData\\Roaming\\nltk_data...\n",
      "[nltk_data]    |   Unzipping corpora\\problem_reports.zip.\n",
      "[nltk_data]    | Downloading package propbank to C:\\Users\\Shruti\n",
      "[nltk_data]    |     Bibra\\AppData\\Roaming\\nltk_data...\n",
      "[nltk_data]    | Downloading package ptb to C:\\Users\\Shruti\n",
      "[nltk_data]    |     Bibra\\AppData\\Roaming\\nltk_data...\n"
     ]
    },
    {
     "name": "stderr",
     "output_type": "stream",
     "text": [
      "[nltk_data]    |   Unzipping corpora\\ptb.zip.\n",
      "[nltk_data]    | Downloading package product_reviews_1 to\n",
      "[nltk_data]    |     C:\\Users\\Shruti\n",
      "[nltk_data]    |     Bibra\\AppData\\Roaming\\nltk_data...\n",
      "[nltk_data]    |   Unzipping corpora\\product_reviews_1.zip.\n",
      "[nltk_data]    | Downloading package product_reviews_2 to\n",
      "[nltk_data]    |     C:\\Users\\Shruti\n",
      "[nltk_data]    |     Bibra\\AppData\\Roaming\\nltk_data...\n",
      "[nltk_data]    |   Unzipping corpora\\product_reviews_2.zip.\n",
      "[nltk_data]    | Downloading package pros_cons to C:\\Users\\Shruti\n",
      "[nltk_data]    |     Bibra\\AppData\\Roaming\\nltk_data...\n",
      "[nltk_data]    |   Unzipping corpora\\pros_cons.zip.\n",
      "[nltk_data]    | Downloading package qc to C:\\Users\\Shruti\n",
      "[nltk_data]    |     Bibra\\AppData\\Roaming\\nltk_data...\n",
      "[nltk_data]    |   Unzipping corpora\\qc.zip.\n",
      "[nltk_data]    | Downloading package reuters to C:\\Users\\Shruti\n",
      "[nltk_data]    |     Bibra\\AppData\\Roaming\\nltk_data...\n",
      "[nltk_data]    | Downloading package rte to C:\\Users\\Shruti\n",
      "[nltk_data]    |     Bibra\\AppData\\Roaming\\nltk_data...\n",
      "[nltk_data]    |   Unzipping corpora\\rte.zip.\n",
      "[nltk_data]    | Downloading package semcor to C:\\Users\\Shruti\n",
      "[nltk_data]    |     Bibra\\AppData\\Roaming\\nltk_data...\n",
      "[nltk_data]    | Downloading package senseval to C:\\Users\\Shruti\n",
      "[nltk_data]    |     Bibra\\AppData\\Roaming\\nltk_data...\n",
      "[nltk_data]    |   Unzipping corpora\\senseval.zip.\n",
      "[nltk_data]    | Downloading package sentiwordnet to C:\\Users\\Shruti\n",
      "[nltk_data]    |     Bibra\\AppData\\Roaming\\nltk_data...\n",
      "[nltk_data]    |   Unzipping corpora\\sentiwordnet.zip.\n",
      "[nltk_data]    | Downloading package sentence_polarity to\n",
      "[nltk_data]    |     C:\\Users\\Shruti\n",
      "[nltk_data]    |     Bibra\\AppData\\Roaming\\nltk_data...\n",
      "[nltk_data]    |   Unzipping corpora\\sentence_polarity.zip.\n",
      "[nltk_data]    | Downloading package shakespeare to C:\\Users\\Shruti\n",
      "[nltk_data]    |     Bibra\\AppData\\Roaming\\nltk_data...\n",
      "[nltk_data]    |   Unzipping corpora\\shakespeare.zip.\n",
      "[nltk_data]    | Downloading package sinica_treebank to\n",
      "[nltk_data]    |     C:\\Users\\Shruti\n",
      "[nltk_data]    |     Bibra\\AppData\\Roaming\\nltk_data...\n",
      "[nltk_data]    |   Unzipping corpora\\sinica_treebank.zip.\n",
      "[nltk_data]    | Downloading package smultron to C:\\Users\\Shruti\n",
      "[nltk_data]    |     Bibra\\AppData\\Roaming\\nltk_data...\n",
      "[nltk_data]    |   Unzipping corpora\\smultron.zip.\n",
      "[nltk_data]    | Downloading package state_union to C:\\Users\\Shruti\n",
      "[nltk_data]    |     Bibra\\AppData\\Roaming\\nltk_data...\n",
      "[nltk_data]    |   Unzipping corpora\\state_union.zip.\n",
      "[nltk_data]    | Downloading package stopwords to C:\\Users\\Shruti\n",
      "[nltk_data]    |     Bibra\\AppData\\Roaming\\nltk_data...\n",
      "[nltk_data]    |   Unzipping corpora\\stopwords.zip.\n",
      "[nltk_data]    | Downloading package subjectivity to C:\\Users\\Shruti\n",
      "[nltk_data]    |     Bibra\\AppData\\Roaming\\nltk_data...\n",
      "[nltk_data]    |   Unzipping corpora\\subjectivity.zip.\n",
      "[nltk_data]    | Downloading package swadesh to C:\\Users\\Shruti\n",
      "[nltk_data]    |     Bibra\\AppData\\Roaming\\nltk_data...\n",
      "[nltk_data]    |   Unzipping corpora\\swadesh.zip.\n",
      "[nltk_data]    | Downloading package switchboard to C:\\Users\\Shruti\n",
      "[nltk_data]    |     Bibra\\AppData\\Roaming\\nltk_data...\n",
      "[nltk_data]    |   Unzipping corpora\\switchboard.zip.\n",
      "[nltk_data]    | Downloading package timit to C:\\Users\\Shruti\n",
      "[nltk_data]    |     Bibra\\AppData\\Roaming\\nltk_data...\n",
      "[nltk_data]    |   Unzipping corpora\\timit.zip.\n",
      "[nltk_data]    | Downloading package toolbox to C:\\Users\\Shruti\n",
      "[nltk_data]    |     Bibra\\AppData\\Roaming\\nltk_data...\n",
      "[nltk_data]    |   Unzipping corpora\\toolbox.zip.\n",
      "[nltk_data]    | Downloading package treebank to C:\\Users\\Shruti\n",
      "[nltk_data]    |     Bibra\\AppData\\Roaming\\nltk_data...\n",
      "[nltk_data]    |   Unzipping corpora\\treebank.zip.\n",
      "[nltk_data]    | Downloading package twitter_samples to\n",
      "[nltk_data]    |     C:\\Users\\Shruti\n",
      "[nltk_data]    |     Bibra\\AppData\\Roaming\\nltk_data...\n",
      "[nltk_data]    |   Unzipping corpora\\twitter_samples.zip.\n",
      "[nltk_data]    | Downloading package udhr to C:\\Users\\Shruti\n",
      "[nltk_data]    |     Bibra\\AppData\\Roaming\\nltk_data...\n",
      "[nltk_data]    |   Unzipping corpora\\udhr.zip.\n",
      "[nltk_data]    | Downloading package udhr2 to C:\\Users\\Shruti\n",
      "[nltk_data]    |     Bibra\\AppData\\Roaming\\nltk_data...\n",
      "[nltk_data]    |   Unzipping corpora\\udhr2.zip.\n",
      "[nltk_data]    | Downloading package unicode_samples to\n",
      "[nltk_data]    |     C:\\Users\\Shruti\n",
      "[nltk_data]    |     Bibra\\AppData\\Roaming\\nltk_data...\n",
      "[nltk_data]    |   Unzipping corpora\\unicode_samples.zip.\n",
      "[nltk_data]    | Downloading package universal_treebanks_v20 to\n",
      "[nltk_data]    |     C:\\Users\\Shruti\n",
      "[nltk_data]    |     Bibra\\AppData\\Roaming\\nltk_data...\n",
      "[nltk_data]    | Downloading package verbnet to C:\\Users\\Shruti\n",
      "[nltk_data]    |     Bibra\\AppData\\Roaming\\nltk_data...\n",
      "[nltk_data]    |   Unzipping corpora\\verbnet.zip.\n",
      "[nltk_data]    | Downloading package verbnet3 to C:\\Users\\Shruti\n",
      "[nltk_data]    |     Bibra\\AppData\\Roaming\\nltk_data...\n",
      "[nltk_data]    |   Unzipping corpora\\verbnet3.zip.\n",
      "[nltk_data]    | Downloading package webtext to C:\\Users\\Shruti\n",
      "[nltk_data]    |     Bibra\\AppData\\Roaming\\nltk_data...\n",
      "[nltk_data]    |   Unzipping corpora\\webtext.zip.\n",
      "[nltk_data]    | Downloading package wordnet to C:\\Users\\Shruti\n",
      "[nltk_data]    |     Bibra\\AppData\\Roaming\\nltk_data...\n",
      "[nltk_data]    |   Unzipping corpora\\wordnet.zip.\n",
      "[nltk_data]    | Downloading package wordnet31 to C:\\Users\\Shruti\n",
      "[nltk_data]    |     Bibra\\AppData\\Roaming\\nltk_data...\n",
      "[nltk_data]    |   Unzipping corpora\\wordnet31.zip.\n",
      "[nltk_data]    | Downloading package wordnet_ic to C:\\Users\\Shruti\n",
      "[nltk_data]    |     Bibra\\AppData\\Roaming\\nltk_data...\n",
      "[nltk_data]    |   Unzipping corpora\\wordnet_ic.zip.\n",
      "[nltk_data]    | Downloading package words to C:\\Users\\Shruti\n",
      "[nltk_data]    |     Bibra\\AppData\\Roaming\\nltk_data...\n",
      "[nltk_data]    |   Unzipping corpora\\words.zip.\n",
      "[nltk_data]    | Downloading package ycoe to C:\\Users\\Shruti\n",
      "[nltk_data]    |     Bibra\\AppData\\Roaming\\nltk_data...\n",
      "[nltk_data]    |   Unzipping corpora\\ycoe.zip.\n",
      "[nltk_data]    | Downloading package rslp to C:\\Users\\Shruti\n",
      "[nltk_data]    |     Bibra\\AppData\\Roaming\\nltk_data...\n",
      "[nltk_data]    |   Unzipping stemmers\\rslp.zip.\n",
      "[nltk_data]    | Downloading package maxent_treebank_pos_tagger to\n",
      "[nltk_data]    |     C:\\Users\\Shruti\n",
      "[nltk_data]    |     Bibra\\AppData\\Roaming\\nltk_data...\n",
      "[nltk_data]    |   Unzipping taggers\\maxent_treebank_pos_tagger.zip.\n",
      "[nltk_data]    | Downloading package universal_tagset to\n",
      "[nltk_data]    |     C:\\Users\\Shruti\n",
      "[nltk_data]    |     Bibra\\AppData\\Roaming\\nltk_data...\n",
      "[nltk_data]    |   Unzipping taggers\\universal_tagset.zip.\n",
      "[nltk_data]    | Downloading package maxent_ne_chunker to\n",
      "[nltk_data]    |     C:\\Users\\Shruti\n",
      "[nltk_data]    |     Bibra\\AppData\\Roaming\\nltk_data...\n",
      "[nltk_data]    |   Unzipping chunkers\\maxent_ne_chunker.zip.\n",
      "[nltk_data]    | Downloading package punkt to C:\\Users\\Shruti\n",
      "[nltk_data]    |     Bibra\\AppData\\Roaming\\nltk_data...\n",
      "[nltk_data]    |   Package punkt is already up-to-date!\n",
      "[nltk_data]    | Downloading package book_grammars to C:\\Users\\Shruti\n",
      "[nltk_data]    |     Bibra\\AppData\\Roaming\\nltk_data...\n",
      "[nltk_data]    |   Unzipping grammars\\book_grammars.zip.\n",
      "[nltk_data]    | Downloading package sample_grammars to\n",
      "[nltk_data]    |     C:\\Users\\Shruti\n",
      "[nltk_data]    |     Bibra\\AppData\\Roaming\\nltk_data...\n",
      "[nltk_data]    |   Unzipping grammars\\sample_grammars.zip.\n",
      "[nltk_data]    | Downloading package spanish_grammars to\n",
      "[nltk_data]    |     C:\\Users\\Shruti\n",
      "[nltk_data]    |     Bibra\\AppData\\Roaming\\nltk_data...\n",
      "[nltk_data]    |   Unzipping grammars\\spanish_grammars.zip.\n",
      "[nltk_data]    | Downloading package basque_grammars to\n",
      "[nltk_data]    |     C:\\Users\\Shruti\n",
      "[nltk_data]    |     Bibra\\AppData\\Roaming\\nltk_data...\n",
      "[nltk_data]    |   Unzipping grammars\\basque_grammars.zip.\n",
      "[nltk_data]    | Downloading package large_grammars to C:\\Users\\Shruti\n",
      "[nltk_data]    |     Bibra\\AppData\\Roaming\\nltk_data...\n"
     ]
    }
   ],
   "source": [
    "nltk.download('all')"
   ]
  },
  {
   "cell_type": "code",
   "execution_count": null,
   "metadata": {},
   "outputs": [],
   "source": []
  }
 ],
 "metadata": {
  "kernelspec": {
   "display_name": "Python 3",
   "language": "python",
   "name": "python3"
  },
  "language_info": {
   "codemirror_mode": {
    "name": "ipython",
    "version": 3
   },
   "file_extension": ".py",
   "mimetype": "text/x-python",
   "name": "python",
   "nbconvert_exporter": "python",
   "pygments_lexer": "ipython3",
   "version": "3.8.5"
  }
 },
 "nbformat": 4,
 "nbformat_minor": 4
}
